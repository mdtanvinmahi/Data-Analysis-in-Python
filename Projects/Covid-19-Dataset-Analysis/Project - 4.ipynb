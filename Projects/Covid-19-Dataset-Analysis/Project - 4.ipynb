{
 "cells": [
  {
   "cell_type": "markdown",
   "id": "f4409b0a",
   "metadata": {},
   "source": [
    "# Project - 4: Covid - 19 Dataset"
   ]
  },
  {
   "cell_type": "code",
   "execution_count": 2,
   "id": "3e5e3571",
   "metadata": {},
   "outputs": [],
   "source": [
    "import pandas as pd #type : ignore"
   ]
  },
  {
   "cell_type": "code",
   "execution_count": 3,
   "id": "80c37fca",
   "metadata": {},
   "outputs": [],
   "source": [
    "data = pd.read_csv(\"Covid - 19 Dataset.csv\")"
   ]
  },
  {
   "cell_type": "code",
   "execution_count": 4,
   "id": "fcf709cb",
   "metadata": {},
   "outputs": [
    {
     "data": {
      "text/html": [
       "<div>\n",
       "<style scoped>\n",
       "    .dataframe tbody tr th:only-of-type {\n",
       "        vertical-align: middle;\n",
       "    }\n",
       "\n",
       "    .dataframe tbody tr th {\n",
       "        vertical-align: top;\n",
       "    }\n",
       "\n",
       "    .dataframe thead th {\n",
       "        text-align: right;\n",
       "    }\n",
       "</style>\n",
       "<table border=\"1\" class=\"dataframe\">\n",
       "  <thead>\n",
       "    <tr style=\"text-align: right;\">\n",
       "      <th></th>\n",
       "      <th>Date</th>\n",
       "      <th>State</th>\n",
       "      <th>Region</th>\n",
       "      <th>Confirmed</th>\n",
       "      <th>Deaths</th>\n",
       "      <th>Recovered</th>\n",
       "    </tr>\n",
       "  </thead>\n",
       "  <tbody>\n",
       "    <tr>\n",
       "      <th>0</th>\n",
       "      <td>4/29/2020</td>\n",
       "      <td>NaN</td>\n",
       "      <td>Afghanistan</td>\n",
       "      <td>1939</td>\n",
       "      <td>60</td>\n",
       "      <td>252</td>\n",
       "    </tr>\n",
       "    <tr>\n",
       "      <th>1</th>\n",
       "      <td>4/29/2020</td>\n",
       "      <td>NaN</td>\n",
       "      <td>Albania</td>\n",
       "      <td>766</td>\n",
       "      <td>30</td>\n",
       "      <td>455</td>\n",
       "    </tr>\n",
       "    <tr>\n",
       "      <th>2</th>\n",
       "      <td>4/29/2020</td>\n",
       "      <td>NaN</td>\n",
       "      <td>Algeria</td>\n",
       "      <td>3848</td>\n",
       "      <td>444</td>\n",
       "      <td>1702</td>\n",
       "    </tr>\n",
       "    <tr>\n",
       "      <th>3</th>\n",
       "      <td>4/29/2020</td>\n",
       "      <td>NaN</td>\n",
       "      <td>Andorra</td>\n",
       "      <td>743</td>\n",
       "      <td>42</td>\n",
       "      <td>423</td>\n",
       "    </tr>\n",
       "    <tr>\n",
       "      <th>4</th>\n",
       "      <td>4/29/2020</td>\n",
       "      <td>NaN</td>\n",
       "      <td>Angola</td>\n",
       "      <td>27</td>\n",
       "      <td>2</td>\n",
       "      <td>7</td>\n",
       "    </tr>\n",
       "    <tr>\n",
       "      <th>...</th>\n",
       "      <td>...</td>\n",
       "      <td>...</td>\n",
       "      <td>...</td>\n",
       "      <td>...</td>\n",
       "      <td>...</td>\n",
       "      <td>...</td>\n",
       "    </tr>\n",
       "    <tr>\n",
       "      <th>316</th>\n",
       "      <td>4/29/2020</td>\n",
       "      <td>Wyoming</td>\n",
       "      <td>US</td>\n",
       "      <td>545</td>\n",
       "      <td>7</td>\n",
       "      <td>0</td>\n",
       "    </tr>\n",
       "    <tr>\n",
       "      <th>317</th>\n",
       "      <td>4/29/2020</td>\n",
       "      <td>Xinjiang</td>\n",
       "      <td>Mainland China</td>\n",
       "      <td>76</td>\n",
       "      <td>3</td>\n",
       "      <td>73</td>\n",
       "    </tr>\n",
       "    <tr>\n",
       "      <th>318</th>\n",
       "      <td>4/29/2020</td>\n",
       "      <td>Yukon</td>\n",
       "      <td>Canada</td>\n",
       "      <td>11</td>\n",
       "      <td>0</td>\n",
       "      <td>0</td>\n",
       "    </tr>\n",
       "    <tr>\n",
       "      <th>319</th>\n",
       "      <td>4/29/2020</td>\n",
       "      <td>Yunnan</td>\n",
       "      <td>Mainland China</td>\n",
       "      <td>185</td>\n",
       "      <td>2</td>\n",
       "      <td>181</td>\n",
       "    </tr>\n",
       "    <tr>\n",
       "      <th>320</th>\n",
       "      <td>4/29/2020</td>\n",
       "      <td>Zhejiang</td>\n",
       "      <td>Mainland China</td>\n",
       "      <td>1268</td>\n",
       "      <td>1</td>\n",
       "      <td>1263</td>\n",
       "    </tr>\n",
       "  </tbody>\n",
       "</table>\n",
       "<p>321 rows × 6 columns</p>\n",
       "</div>"
      ],
      "text/plain": [
       "          Date     State          Region  Confirmed  Deaths  Recovered\n",
       "0    4/29/2020       NaN     Afghanistan       1939      60        252\n",
       "1    4/29/2020       NaN         Albania        766      30        455\n",
       "2    4/29/2020       NaN         Algeria       3848     444       1702\n",
       "3    4/29/2020       NaN         Andorra        743      42        423\n",
       "4    4/29/2020       NaN          Angola         27       2          7\n",
       "..         ...       ...             ...        ...     ...        ...\n",
       "316  4/29/2020   Wyoming              US        545       7          0\n",
       "317  4/29/2020  Xinjiang  Mainland China         76       3         73\n",
       "318  4/29/2020     Yukon          Canada         11       0          0\n",
       "319  4/29/2020    Yunnan  Mainland China        185       2        181\n",
       "320  4/29/2020  Zhejiang  Mainland China       1268       1       1263\n",
       "\n",
       "[321 rows x 6 columns]"
      ]
     },
     "execution_count": 4,
     "metadata": {},
     "output_type": "execute_result"
    }
   ],
   "source": [
    "data"
   ]
  },
  {
   "cell_type": "markdown",
   "id": "eb175ad1",
   "metadata": {},
   "source": [
    "# (Total number of values in each column)"
   ]
  },
  {
   "cell_type": "code",
   "execution_count": 5,
   "id": "e4e4db07",
   "metadata": {},
   "outputs": [
    {
     "data": {
      "text/plain": [
       "Date         321\n",
       "State        140\n",
       "Region       321\n",
       "Confirmed    321\n",
       "Deaths       321\n",
       "Recovered    321\n",
       "dtype: int64"
      ]
     },
     "execution_count": 5,
     "metadata": {},
     "output_type": "execute_result"
    }
   ],
   "source": [
    "data.count()"
   ]
  },
  {
   "cell_type": "markdown",
   "id": "1cd767e3",
   "metadata": {},
   "source": [
    "# (Total number of null values in each column)"
   ]
  },
  {
   "cell_type": "code",
   "execution_count": 6,
   "id": "87b068b4",
   "metadata": {},
   "outputs": [
    {
     "data": {
      "text/plain": [
       "Date           0\n",
       "State        181\n",
       "Region         0\n",
       "Confirmed      0\n",
       "Deaths         0\n",
       "Recovered      0\n",
       "dtype: int64"
      ]
     },
     "execution_count": 6,
     "metadata": {},
     "output_type": "execute_result"
    }
   ],
   "source": [
    "data.isnull().sum()"
   ]
  },
  {
   "cell_type": "markdown",
   "id": "a8deb19e",
   "metadata": {},
   "source": [
    "# (Total number of unique values in each column)"
   ]
  },
  {
   "cell_type": "code",
   "execution_count": 7,
   "id": "6b13f407",
   "metadata": {},
   "outputs": [
    {
     "data": {
      "text/plain": [
       "Date           1\n",
       "State        137\n",
       "Region       187\n",
       "Confirmed    282\n",
       "Deaths       142\n",
       "Recovered    195\n",
       "dtype: int64"
      ]
     },
     "execution_count": 7,
     "metadata": {},
     "output_type": "execute_result"
    }
   ],
   "source": [
    "data.nunique()"
   ]
  },
  {
   "cell_type": "markdown",
   "id": "161e6845",
   "metadata": {},
   "source": [
    "# (Seaborn Library)"
   ]
  },
  {
   "cell_type": "code",
   "execution_count": 8,
   "id": "6e95cf27",
   "metadata": {},
   "outputs": [],
   "source": [
    "import seaborn as sns #type : ignore"
   ]
  },
  {
   "cell_type": "code",
   "execution_count": 9,
   "id": "197625f4",
   "metadata": {},
   "outputs": [],
   "source": [
    "import matplotlib.pyplot as plt #type : ignore"
   ]
  },
  {
   "cell_type": "code",
   "execution_count": 11,
   "id": "edb463d5",
   "metadata": {},
   "outputs": [
    {
     "data": {
      "text/plain": [
       "Date           0\n",
       "State        181\n",
       "Region         0\n",
       "Confirmed      0\n",
       "Deaths         0\n",
       "Recovered      0\n",
       "dtype: int64"
      ]
     },
     "execution_count": 11,
     "metadata": {},
     "output_type": "execute_result"
    }
   ],
   "source": [
    "data.isnull().sum()"
   ]
  },
  {
   "cell_type": "code",
   "execution_count": 12,
   "id": "57e84440",
   "metadata": {},
   "outputs": [
    {
     "data": {
      "image/png": "[encoded data removed]",
      "text/plain": [
       "<Figure size 640x480 with 2 Axes>"
      ]
     },
     "metadata": {},
     "output_type": "display_data"
    }
   ],
   "source": [
    "sns.heatmap(data.isnull())\n",
    "plt.show()"
   ]
  },
  {
   "cell_type": "code",
   "execution_count": 13,
   "id": "76de17d3",
   "metadata": {},
   "outputs": [
    {
     "data": {
      "image/png": "[encoded data removed]",
      "text/plain": [
       "<Figure size 640x480 with 2 Axes>"
      ]
     },
     "metadata": {},
     "output_type": "display_data"
    }
   ],
   "source": [
    "sns.heatmap(data.notnull())\n",
    "plt.show()"
   ]
  },
  {
   "cell_type": "markdown",
   "id": "c6aa52cc",
   "metadata": {},
   "source": [
    "# Q.1. Show the number of Confirmed, Deaths and Recovered cases in each region."
   ]
  },
  {
   "cell_type": "code",
   "execution_count": 14,
   "id": "78f49b3c",
   "metadata": {},
   "outputs": [],
   "source": [
    "# groupby( ) function cannot work distinctly. We must add sum( ) function if there is no function with groupby( ), not even the get_group( ) function."
   ]
  },
  {
   "cell_type": "code",
   "execution_count": 22,
   "id": "5e08e956",
   "metadata": {},
   "outputs": [
    {
     "data": {
      "text/html": [
       "<div>\n",
       "<style scoped>\n",
       "    .dataframe tbody tr th:only-of-type {\n",
       "        vertical-align: middle;\n",
       "    }\n",
       "\n",
       "    .dataframe tbody tr th {\n",
       "        vertical-align: top;\n",
       "    }\n",
       "\n",
       "    .dataframe thead th {\n",
       "        text-align: right;\n",
       "    }\n",
       "</style>\n",
       "<table border=\"1\" class=\"dataframe\">\n",
       "  <thead>\n",
       "    <tr style=\"text-align: right;\">\n",
       "      <th></th>\n",
       "      <th>Date</th>\n",
       "      <th>State</th>\n",
       "      <th>Confirmed</th>\n",
       "      <th>Deaths</th>\n",
       "      <th>Recovered</th>\n",
       "    </tr>\n",
       "    <tr>\n",
       "      <th>Region</th>\n",
       "      <th></th>\n",
       "      <th></th>\n",
       "      <th></th>\n",
       "      <th></th>\n",
       "      <th></th>\n",
       "    </tr>\n",
       "  </thead>\n",
       "  <tbody>\n",
       "    <tr>\n",
       "      <th>Afghanistan</th>\n",
       "      <td>4/29/2020</td>\n",
       "      <td>0</td>\n",
       "      <td>1939</td>\n",
       "      <td>60</td>\n",
       "      <td>252</td>\n",
       "    </tr>\n",
       "    <tr>\n",
       "      <th>Albania</th>\n",
       "      <td>4/29/2020</td>\n",
       "      <td>0</td>\n",
       "      <td>766</td>\n",
       "      <td>30</td>\n",
       "      <td>455</td>\n",
       "    </tr>\n",
       "    <tr>\n",
       "      <th>Algeria</th>\n",
       "      <td>4/29/2020</td>\n",
       "      <td>0</td>\n",
       "      <td>3848</td>\n",
       "      <td>444</td>\n",
       "      <td>1702</td>\n",
       "    </tr>\n",
       "    <tr>\n",
       "      <th>Andorra</th>\n",
       "      <td>4/29/2020</td>\n",
       "      <td>0</td>\n",
       "      <td>743</td>\n",
       "      <td>42</td>\n",
       "      <td>423</td>\n",
       "    </tr>\n",
       "    <tr>\n",
       "      <th>Angola</th>\n",
       "      <td>4/29/2020</td>\n",
       "      <td>0</td>\n",
       "      <td>27</td>\n",
       "      <td>2</td>\n",
       "      <td>7</td>\n",
       "    </tr>\n",
       "    <tr>\n",
       "      <th>Antigua and Barbuda</th>\n",
       "      <td>4/29/2020</td>\n",
       "      <td>0</td>\n",
       "      <td>24</td>\n",
       "      <td>3</td>\n",
       "      <td>11</td>\n",
       "    </tr>\n",
       "    <tr>\n",
       "      <th>Argentina</th>\n",
       "      <td>4/29/2020</td>\n",
       "      <td>0</td>\n",
       "      <td>4285</td>\n",
       "      <td>214</td>\n",
       "      <td>1192</td>\n",
       "    </tr>\n",
       "    <tr>\n",
       "      <th>Armenia</th>\n",
       "      <td>4/29/2020</td>\n",
       "      <td>0</td>\n",
       "      <td>1932</td>\n",
       "      <td>30</td>\n",
       "      <td>900</td>\n",
       "    </tr>\n",
       "    <tr>\n",
       "      <th>Australia</th>\n",
       "      <td>4/29/20204/29/20204/29/20204/29/20204/29/20204...</td>\n",
       "      <td>Australian Capital TerritoryNew South WalesNor...</td>\n",
       "      <td>6752</td>\n",
       "      <td>91</td>\n",
       "      <td>5715</td>\n",
       "    </tr>\n",
       "    <tr>\n",
       "      <th>Austria</th>\n",
       "      <td>4/29/2020</td>\n",
       "      <td>0</td>\n",
       "      <td>15402</td>\n",
       "      <td>580</td>\n",
       "      <td>12779</td>\n",
       "    </tr>\n",
       "  </tbody>\n",
       "</table>\n",
       "</div>"
      ],
      "text/plain": [
       "                                                                  Date  \\\n",
       "Region                                                                   \n",
       "Afghanistan                                                  4/29/2020   \n",
       "Albania                                                      4/29/2020   \n",
       "Algeria                                                      4/29/2020   \n",
       "Andorra                                                      4/29/2020   \n",
       "Angola                                                       4/29/2020   \n",
       "Antigua and Barbuda                                          4/29/2020   \n",
       "Argentina                                                    4/29/2020   \n",
       "Armenia                                                      4/29/2020   \n",
       "Australia            4/29/20204/29/20204/29/20204/29/20204/29/20204...   \n",
       "Austria                                                      4/29/2020   \n",
       "\n",
       "                                                                 State  \\\n",
       "Region                                                                   \n",
       "Afghanistan                                                          0   \n",
       "Albania                                                              0   \n",
       "Algeria                                                              0   \n",
       "Andorra                                                              0   \n",
       "Angola                                                               0   \n",
       "Antigua and Barbuda                                                  0   \n",
       "Argentina                                                            0   \n",
       "Armenia                                                              0   \n",
       "Australia            Australian Capital TerritoryNew South WalesNor...   \n",
       "Austria                                                              0   \n",
       "\n",
       "                     Confirmed  Deaths  Recovered  \n",
       "Region                                             \n",
       "Afghanistan               1939      60        252  \n",
       "Albania                    766      30        455  \n",
       "Algeria                   3848     444       1702  \n",
       "Andorra                    743      42        423  \n",
       "Angola                      27       2          7  \n",
       "Antigua and Barbuda         24       3         11  \n",
       "Argentina                 4285     214       1192  \n",
       "Armenia                   1932      30        900  \n",
       "Australia                 6752      91       5715  \n",
       "Austria                  15402     580      12779  "
      ]
     },
     "execution_count": 22,
     "metadata": {},
     "output_type": "execute_result"
    }
   ],
   "source": [
    "data.groupby(\"Region\").sum().head(10)"
   ]
  },
  {
   "cell_type": "code",
   "execution_count": 25,
   "id": "b18ed1ce",
   "metadata": {},
   "outputs": [
    {
     "data": {
      "text/plain": [
       "Region\n",
       "US                1039909\n",
       "Spain              236899\n",
       "Italy              203591\n",
       "France             166543\n",
       "UK                 166441\n",
       "Germany            161539\n",
       "Turkey             117589\n",
       "Russia              99399\n",
       "Iran                93657\n",
       "Mainland China      82862\n",
       "Brazil              79685\n",
       "Canada              52865\n",
       "Belgium             47859\n",
       "Netherlands         38998\n",
       "Peru                33931\n",
       "India               33062\n",
       "Switzerland         29407\n",
       "Ecuador             24675\n",
       "Portugal            24505\n",
       "Saudi Arabia        21402\n",
       "Sweden              20302\n",
       "Ireland             20253\n",
       "Mexico              17799\n",
       "Israel              15834\n",
       "Singapore           15641\n",
       "Pakistan            15525\n",
       "Austria             15402\n",
       "Chile               14885\n",
       "Japan               13895\n",
       "Belarus             13181\n",
       "Name: Confirmed, dtype: int64"
      ]
     },
     "execution_count": 25,
     "metadata": {},
     "output_type": "execute_result"
    }
   ],
   "source": [
    "data.groupby(\"Region\").Confirmed.sum().sort_values(ascending=False).head(30)"
   ]
  },
  {
   "cell_type": "code",
   "execution_count": 27,
   "id": "9c8b06a1",
   "metadata": {},
   "outputs": [
    {
     "data": {
      "text/plain": [
       "Region\n",
       "US                60967\n",
       "Italy             27682\n",
       "UK                26166\n",
       "Spain             24275\n",
       "France            24121\n",
       "                  ...  \n",
       "South Sudan           0\n",
       "Uganda                0\n",
       "Vietnam               0\n",
       "Yemen                 0\n",
       "Western Sahara        0\n",
       "Name: Deaths, Length: 187, dtype: int64"
      ]
     },
     "execution_count": 27,
     "metadata": {},
     "output_type": "execute_result"
    }
   ],
   "source": [
    "data.groupby(\"Region\")[\"Deaths\"].sum().sort_values(ascending=False)"
   ]
  },
  {
   "cell_type": "code",
   "execution_count": 29,
   "id": "91406854",
   "metadata": {},
   "outputs": [
    {
     "data": {
      "text/plain": [
       "Region\n",
       "Spain               132929\n",
       "US                  120720\n",
       "Germany             120400\n",
       "Mainland China       77610\n",
       "Iran                 73791\n",
       "                     ...  \n",
       "Holy See                 2\n",
       "Yemen                    1\n",
       "MS Zaandam               0\n",
       "Papua New Guinea         0\n",
       "South Sudan              0\n",
       "Name: Recovered, Length: 187, dtype: int64"
      ]
     },
     "execution_count": 29,
     "metadata": {},
     "output_type": "execute_result"
    }
   ],
   "source": [
    "data.groupby(\"Region\")[\"Recovered\"].sum().sort_values(ascending=False)"
   ]
  },
  {
   "cell_type": "markdown",
   "id": "9ffb58b1",
   "metadata": {},
   "source": [
    "# IMPORTANT:\n",
    "\n",
    "* if we want to find all the values of Confirmed, Deaths and Recovered against each country, then we will have to follow: data.groupby('column_1').sum( )\n",
    "\n",
    "* if we want to find either Confirmed or Deaths or Recovered numbers against each county, then we will have to follow: data.groupby('column_1).column_2.sum( ).sort_values(ascending=False)\n",
    "* or data.groupby('column_1')['column_2'].sum( ).sort_values(ascending=False).\n",
    "\n",
    "* ascending = False, when we want the first value to be the highest one and the last value to be the lowest one.\n",
    "* ascending = True, when we want the first value to be the lowest one and the last value to be the highest one."
   ]
  },
  {
   "cell_type": "markdown",
   "id": "241fc731",
   "metadata": {},
   "source": [
    "# Q.2. Remove all the records where Confirmed cases are less than 10."
   ]
  },
  {
   "cell_type": "code",
   "execution_count": 63,
   "id": "8f046fa9",
   "metadata": {},
   "outputs": [
    {
     "data": {
      "text/html": [
       "<div>\n",
       "<style scoped>\n",
       "    .dataframe tbody tr th:only-of-type {\n",
       "        vertical-align: middle;\n",
       "    }\n",
       "\n",
       "    .dataframe tbody tr th {\n",
       "        vertical-align: top;\n",
       "    }\n",
       "\n",
       "    .dataframe thead th {\n",
       "        text-align: right;\n",
       "    }\n",
       "</style>\n",
       "<table border=\"1\" class=\"dataframe\">\n",
       "  <thead>\n",
       "    <tr style=\"text-align: right;\">\n",
       "      <th></th>\n",
       "      <th>Date</th>\n",
       "      <th>State</th>\n",
       "      <th>Region</th>\n",
       "      <th>Deaths</th>\n",
       "      <th>Recovered</th>\n",
       "    </tr>\n",
       "    <tr>\n",
       "      <th>Confirmed</th>\n",
       "      <th></th>\n",
       "      <th></th>\n",
       "      <th></th>\n",
       "      <th></th>\n",
       "      <th></th>\n",
       "    </tr>\n",
       "  </thead>\n",
       "  <tbody>\n",
       "    <tr>\n",
       "      <th>10</th>\n",
       "      <td>4/29/20204/29/20204/29/2020</td>\n",
       "      <td>0</td>\n",
       "      <td>GambiaHoly SeeSuriname</td>\n",
       "      <td>2</td>\n",
       "      <td>18</td>\n",
       "    </tr>\n",
       "    <tr>\n",
       "      <th>11</th>\n",
       "      <td>4/29/20204/29/20204/29/20204/29/20204/29/2020</td>\n",
       "      <td>GreenlandMontserratYukon</td>\n",
       "      <td>BurundiSeychellesDenmarkUKCanada</td>\n",
       "      <td>2</td>\n",
       "      <td>23</td>\n",
       "    </tr>\n",
       "    <tr>\n",
       "      <th>12</th>\n",
       "      <td>4/29/2020</td>\n",
       "      <td>Turks and Caicos Islands</td>\n",
       "      <td>UK</td>\n",
       "      <td>1</td>\n",
       "      <td>5</td>\n",
       "    </tr>\n",
       "    <tr>\n",
       "      <th>13</th>\n",
       "      <td>4/29/20204/29/20204/29/2020</td>\n",
       "      <td>Falkland Islands (Malvinas)Grand Princess</td>\n",
       "      <td>NicaraguaUKCanada</td>\n",
       "      <td>3</td>\n",
       "      <td>18</td>\n",
       "    </tr>\n",
       "    <tr>\n",
       "      <th>14</th>\n",
       "      <td>4/29/2020</td>\n",
       "      <td>Northern Mariana Islands</td>\n",
       "      <td>US</td>\n",
       "      <td>2</td>\n",
       "      <td>0</td>\n",
       "    </tr>\n",
       "    <tr>\n",
       "      <th>15</th>\n",
       "      <td>4/29/2020</td>\n",
       "      <td>0</td>\n",
       "      <td>Saint Kitts and Nevis</td>\n",
       "      <td>0</td>\n",
       "      <td>4</td>\n",
       "    </tr>\n",
       "    <tr>\n",
       "      <th>16</th>\n",
       "      <td>4/29/20204/29/20204/29/20204/29/2020</td>\n",
       "      <td>Curacao</td>\n",
       "      <td>DominicaNamibiaSaint Vincent and the Grenadine...</td>\n",
       "      <td>1</td>\n",
       "      <td>42</td>\n",
       "    </tr>\n",
       "    <tr>\n",
       "      <th>17</th>\n",
       "      <td>4/29/2020</td>\n",
       "      <td>0</td>\n",
       "      <td>Saint Lucia</td>\n",
       "      <td>0</td>\n",
       "      <td>15</td>\n",
       "    </tr>\n",
       "    <tr>\n",
       "      <th>18</th>\n",
       "      <td>4/29/20204/29/20204/29/20204/29/2020</td>\n",
       "      <td>New CaledoniaQinghai</td>\n",
       "      <td>BelizeFijiFranceMainland China</td>\n",
       "      <td>2</td>\n",
       "      <td>56</td>\n",
       "    </tr>\n",
       "    <tr>\n",
       "      <th>19</th>\n",
       "      <td>4/29/2020</td>\n",
       "      <td>0</td>\n",
       "      <td>Laos</td>\n",
       "      <td>0</td>\n",
       "      <td>7</td>\n",
       "    </tr>\n",
       "  </tbody>\n",
       "</table>\n",
       "</div>"
      ],
      "text/plain": [
       "                                                    Date  \\\n",
       "Confirmed                                                  \n",
       "10                           4/29/20204/29/20204/29/2020   \n",
       "11         4/29/20204/29/20204/29/20204/29/20204/29/2020   \n",
       "12                                             4/29/2020   \n",
       "13                           4/29/20204/29/20204/29/2020   \n",
       "14                                             4/29/2020   \n",
       "15                                             4/29/2020   \n",
       "16                  4/29/20204/29/20204/29/20204/29/2020   \n",
       "17                                             4/29/2020   \n",
       "18                  4/29/20204/29/20204/29/20204/29/2020   \n",
       "19                                             4/29/2020   \n",
       "\n",
       "                                               State  \\\n",
       "Confirmed                                              \n",
       "10                                                 0   \n",
       "11                          GreenlandMontserratYukon   \n",
       "12                          Turks and Caicos Islands   \n",
       "13         Falkland Islands (Malvinas)Grand Princess   \n",
       "14                          Northern Mariana Islands   \n",
       "15                                                 0   \n",
       "16                                           Curacao   \n",
       "17                                                 0   \n",
       "18                              New CaledoniaQinghai   \n",
       "19                                                 0   \n",
       "\n",
       "                                                      Region  Deaths  \\\n",
       "Confirmed                                                              \n",
       "10                                    GambiaHoly SeeSuriname       2   \n",
       "11                          BurundiSeychellesDenmarkUKCanada       2   \n",
       "12                                                        UK       1   \n",
       "13                                         NicaraguaUKCanada       3   \n",
       "14                                                        US       2   \n",
       "15                                     Saint Kitts and Nevis       0   \n",
       "16         DominicaNamibiaSaint Vincent and the Grenadine...       1   \n",
       "17                                               Saint Lucia       0   \n",
       "18                            BelizeFijiFranceMainland China       2   \n",
       "19                                                      Laos       0   \n",
       "\n",
       "           Recovered  \n",
       "Confirmed             \n",
       "10                18  \n",
       "11                23  \n",
       "12                 5  \n",
       "13                18  \n",
       "14                 0  \n",
       "15                 4  \n",
       "16                42  \n",
       "17                15  \n",
       "18                56  \n",
       "19                 7  "
      ]
     },
     "execution_count": 63,
     "metadata": {},
     "output_type": "execute_result"
    }
   ],
   "source": [
    "data.groupby(\"Confirmed\").sum().head(10)"
   ]
  },
  {
   "cell_type": "code",
   "execution_count": 37,
   "id": "cbcacb21",
   "metadata": {},
   "outputs": [],
   "source": [
    "data = data[~(data[\"Confirmed\"] < 10)]"
   ]
  },
  {
   "cell_type": "code",
   "execution_count": 41,
   "id": "a7de3183",
   "metadata": {},
   "outputs": [
    {
     "data": {
      "text/plain": [
       "Date         0\n",
       "State        0\n",
       "Region       0\n",
       "Confirmed    0\n",
       "Deaths       0\n",
       "Recovered    0\n",
       "dtype: object"
      ]
     },
     "execution_count": 41,
     "metadata": {},
     "output_type": "execute_result"
    }
   ],
   "source": [
    "data[data[\"Confirmed\"] < 10].sum()"
   ]
  },
  {
   "cell_type": "markdown",
   "id": "5fa9dca8",
   "metadata": {},
   "source": [
    "# Q.3. In which Region, maximum number of Confirmed cases were recorded?"
   ]
  },
  {
   "cell_type": "code",
   "execution_count": 42,
   "id": "f30331b8",
   "metadata": {},
   "outputs": [
    {
     "data": {
      "text/html": [
       "<div>\n",
       "<style scoped>\n",
       "    .dataframe tbody tr th:only-of-type {\n",
       "        vertical-align: middle;\n",
       "    }\n",
       "\n",
       "    .dataframe tbody tr th {\n",
       "        vertical-align: top;\n",
       "    }\n",
       "\n",
       "    .dataframe thead th {\n",
       "        text-align: right;\n",
       "    }\n",
       "</style>\n",
       "<table border=\"1\" class=\"dataframe\">\n",
       "  <thead>\n",
       "    <tr style=\"text-align: right;\">\n",
       "      <th></th>\n",
       "      <th>Date</th>\n",
       "      <th>State</th>\n",
       "      <th>Region</th>\n",
       "      <th>Confirmed</th>\n",
       "      <th>Deaths</th>\n",
       "      <th>Recovered</th>\n",
       "    </tr>\n",
       "  </thead>\n",
       "  <tbody>\n",
       "    <tr>\n",
       "      <th>0</th>\n",
       "      <td>4/29/2020</td>\n",
       "      <td>NaN</td>\n",
       "      <td>Afghanistan</td>\n",
       "      <td>1939</td>\n",
       "      <td>60</td>\n",
       "      <td>252</td>\n",
       "    </tr>\n",
       "    <tr>\n",
       "      <th>1</th>\n",
       "      <td>4/29/2020</td>\n",
       "      <td>NaN</td>\n",
       "      <td>Albania</td>\n",
       "      <td>766</td>\n",
       "      <td>30</td>\n",
       "      <td>455</td>\n",
       "    </tr>\n",
       "  </tbody>\n",
       "</table>\n",
       "</div>"
      ],
      "text/plain": [
       "        Date State       Region  Confirmed  Deaths  Recovered\n",
       "0  4/29/2020   NaN  Afghanistan       1939      60        252\n",
       "1  4/29/2020   NaN      Albania        766      30        455"
      ]
     },
     "execution_count": 42,
     "metadata": {},
     "output_type": "execute_result"
    }
   ],
   "source": [
    "data.head(2)"
   ]
  },
  {
   "cell_type": "code",
   "execution_count": 53,
   "id": "dbb60837",
   "metadata": {},
   "outputs": [
    {
     "data": {
      "text/plain": [
       "Region\n",
       "US        1039909\n",
       "Spain      236899\n",
       "Italy      203591\n",
       "France     166536\n",
       "UK         166432\n",
       "Name: Confirmed, dtype: int64"
      ]
     },
     "execution_count": 53,
     "metadata": {},
     "output_type": "execute_result"
    }
   ],
   "source": [
    "data.groupby(\"Region\").Confirmed.sum().sort_values(ascending=False).head()"
   ]
  },
  {
   "cell_type": "markdown",
   "id": "267cf9f6",
   "metadata": {},
   "source": [
    "# Q.4. In which Region, minimum numbers of Deaths cases were recorded?"
   ]
  },
  {
   "cell_type": "code",
   "execution_count": 60,
   "id": "4ed6e116",
   "metadata": {},
   "outputs": [
    {
     "data": {
      "text/plain": [
       "Region\n",
       "Cambodia                            0\n",
       "Fiji                                0\n",
       "Dominica                            0\n",
       "Central African Republic            0\n",
       "Eritrea                             0\n",
       "Laos                                0\n",
       "Holy See                            0\n",
       "Nepal                               0\n",
       "Madagascar                          0\n",
       "Macau                               0\n",
       "Mozambique                          0\n",
       "Mongolia                            0\n",
       "Namibia                             0\n",
       "Grenada                             0\n",
       "Saint Lucia                         0\n",
       "Saint Vincent and the Grenadines    0\n",
       "Timor-Leste                         0\n",
       "Uganda                              0\n",
       "Seychelles                          0\n",
       "South Sudan                         0\n",
       "Rwanda                              0\n",
       "Saint Kitts and Nevis               0\n",
       "Vietnam                             0\n",
       "Liechtenstein                       1\n",
       "Benin                               1\n",
       "Gambia                              1\n",
       "Eswatini                            1\n",
       "Equatorial Guinea                   1\n",
       "Guinea-Bissau                       1\n",
       "Maldives                            1\n",
       "Name: Deaths, dtype: int64"
      ]
     },
     "execution_count": 60,
     "metadata": {},
     "output_type": "execute_result"
    }
   ],
   "source": [
    "data.groupby(\"Region\").Deaths.sum().sort_values(ascending=True).head(30)"
   ]
  },
  {
   "cell_type": "markdown",
   "id": "5fa2b751",
   "metadata": {},
   "source": [
    "# Q.5. How many Confirmed, Deaths and Recovered cases were reported from the USA till 29 April 2020?"
   ]
  },
  {
   "cell_type": "code",
   "execution_count": 70,
   "id": "9ed94724",
   "metadata": {},
   "outputs": [
    {
     "data": {
      "text/html": [
       "<div>\n",
       "<style scoped>\n",
       "    .dataframe tbody tr th:only-of-type {\n",
       "        vertical-align: middle;\n",
       "    }\n",
       "\n",
       "    .dataframe tbody tr th {\n",
       "        vertical-align: top;\n",
       "    }\n",
       "\n",
       "    .dataframe thead th {\n",
       "        text-align: right;\n",
       "    }\n",
       "</style>\n",
       "<table border=\"1\" class=\"dataframe\">\n",
       "  <thead>\n",
       "    <tr style=\"text-align: right;\">\n",
       "      <th></th>\n",
       "      <th>Date</th>\n",
       "      <th>State</th>\n",
       "      <th>Region</th>\n",
       "      <th>Confirmed</th>\n",
       "      <th>Deaths</th>\n",
       "      <th>Recovered</th>\n",
       "    </tr>\n",
       "  </thead>\n",
       "  <tbody>\n",
       "    <tr>\n",
       "      <th>1</th>\n",
       "      <td>4/29/2020</td>\n",
       "      <td>NaN</td>\n",
       "      <td>Albania</td>\n",
       "      <td>766</td>\n",
       "      <td>30</td>\n",
       "      <td>455</td>\n",
       "    </tr>\n",
       "  </tbody>\n",
       "</table>\n",
       "</div>"
      ],
      "text/plain": [
       "        Date State   Region  Confirmed  Deaths  Recovered\n",
       "1  4/29/2020   NaN  Albania        766      30        455"
      ]
     },
     "execution_count": 70,
     "metadata": {},
     "output_type": "execute_result"
    }
   ],
   "source": [
    "data[data[\"Region\"] == \"Albania\"]"
   ]
  },
  {
   "cell_type": "markdown",
   "id": "40fe1a4b",
   "metadata": {},
   "source": [
    "* Alternative way:"
   ]
  },
  {
   "cell_type": "code",
   "execution_count": 73,
   "id": "d7ef92a4",
   "metadata": {},
   "outputs": [
    {
     "data": {
      "text/plain": [
       "Date         4/29/2020\n",
       "State                0\n",
       "Region         Albania\n",
       "Confirmed          766\n",
       "Deaths              30\n",
       "Recovered          455\n",
       "dtype: object"
      ]
     },
     "execution_count": 73,
     "metadata": {},
     "output_type": "execute_result"
    }
   ],
   "source": [
    "data.groupby(\"Region\").get_group(\"Albania\").sum()"
   ]
  },
  {
   "cell_type": "markdown",
   "id": "1ff47288",
   "metadata": {},
   "source": [
    "# Q.6. Sort the entire data with respect to no. of confirmed cases in ascending order."
   ]
  },
  {
   "cell_type": "code",
   "execution_count": 81,
   "id": "8246dca4",
   "metadata": {},
   "outputs": [
    {
     "data": {
      "text/html": [
       "<div>\n",
       "<style scoped>\n",
       "    .dataframe tbody tr th:only-of-type {\n",
       "        vertical-align: middle;\n",
       "    }\n",
       "\n",
       "    .dataframe tbody tr th {\n",
       "        vertical-align: top;\n",
       "    }\n",
       "\n",
       "    .dataframe thead th {\n",
       "        text-align: right;\n",
       "    }\n",
       "</style>\n",
       "<table border=\"1\" class=\"dataframe\">\n",
       "  <thead>\n",
       "    <tr style=\"text-align: right;\">\n",
       "      <th></th>\n",
       "      <th>Date</th>\n",
       "      <th>State</th>\n",
       "      <th>Region</th>\n",
       "      <th>Confirmed</th>\n",
       "      <th>Deaths</th>\n",
       "      <th>Recovered</th>\n",
       "    </tr>\n",
       "  </thead>\n",
       "  <tbody>\n",
       "    <tr>\n",
       "      <th>70</th>\n",
       "      <td>4/29/2020</td>\n",
       "      <td>NaN</td>\n",
       "      <td>Holy See</td>\n",
       "      <td>10</td>\n",
       "      <td>0</td>\n",
       "      <td>2</td>\n",
       "    </tr>\n",
       "    <tr>\n",
       "      <th>59</th>\n",
       "      <td>4/29/2020</td>\n",
       "      <td>NaN</td>\n",
       "      <td>Gambia</td>\n",
       "      <td>10</td>\n",
       "      <td>1</td>\n",
       "      <td>8</td>\n",
       "    </tr>\n",
       "    <tr>\n",
       "      <th>156</th>\n",
       "      <td>4/29/2020</td>\n",
       "      <td>NaN</td>\n",
       "      <td>Suriname</td>\n",
       "      <td>10</td>\n",
       "      <td>1</td>\n",
       "      <td>8</td>\n",
       "    </tr>\n",
       "    <tr>\n",
       "      <th>27</th>\n",
       "      <td>4/29/2020</td>\n",
       "      <td>NaN</td>\n",
       "      <td>Burundi</td>\n",
       "      <td>11</td>\n",
       "      <td>1</td>\n",
       "      <td>4</td>\n",
       "    </tr>\n",
       "    <tr>\n",
       "      <th>217</th>\n",
       "      <td>4/29/2020</td>\n",
       "      <td>Greenland</td>\n",
       "      <td>Denmark</td>\n",
       "      <td>11</td>\n",
       "      <td>0</td>\n",
       "      <td>11</td>\n",
       "    </tr>\n",
       "    <tr>\n",
       "      <th>...</th>\n",
       "      <td>...</td>\n",
       "      <td>...</td>\n",
       "      <td>...</td>\n",
       "      <td>...</td>\n",
       "      <td>...</td>\n",
       "      <td>...</td>\n",
       "    </tr>\n",
       "    <tr>\n",
       "      <th>57</th>\n",
       "      <td>4/29/2020</td>\n",
       "      <td>NaN</td>\n",
       "      <td>France</td>\n",
       "      <td>165093</td>\n",
       "      <td>24087</td>\n",
       "      <td>48228</td>\n",
       "    </tr>\n",
       "    <tr>\n",
       "      <th>168</th>\n",
       "      <td>4/29/2020</td>\n",
       "      <td>NaN</td>\n",
       "      <td>UK</td>\n",
       "      <td>165221</td>\n",
       "      <td>26097</td>\n",
       "      <td>0</td>\n",
       "    </tr>\n",
       "    <tr>\n",
       "      <th>80</th>\n",
       "      <td>4/29/2020</td>\n",
       "      <td>NaN</td>\n",
       "      <td>Italy</td>\n",
       "      <td>203591</td>\n",
       "      <td>27682</td>\n",
       "      <td>71252</td>\n",
       "    </tr>\n",
       "    <tr>\n",
       "      <th>153</th>\n",
       "      <td>4/29/2020</td>\n",
       "      <td>NaN</td>\n",
       "      <td>Spain</td>\n",
       "      <td>236899</td>\n",
       "      <td>24275</td>\n",
       "      <td>132929</td>\n",
       "    </tr>\n",
       "    <tr>\n",
       "      <th>265</th>\n",
       "      <td>4/29/2020</td>\n",
       "      <td>New York</td>\n",
       "      <td>US</td>\n",
       "      <td>299691</td>\n",
       "      <td>23477</td>\n",
       "      <td>0</td>\n",
       "    </tr>\n",
       "  </tbody>\n",
       "</table>\n",
       "<p>304 rows × 6 columns</p>\n",
       "</div>"
      ],
      "text/plain": [
       "          Date      State    Region  Confirmed  Deaths  Recovered\n",
       "70   4/29/2020        NaN  Holy See         10       0          2\n",
       "59   4/29/2020        NaN    Gambia         10       1          8\n",
       "156  4/29/2020        NaN  Suriname         10       1          8\n",
       "27   4/29/2020        NaN   Burundi         11       1          4\n",
       "217  4/29/2020  Greenland   Denmark         11       0         11\n",
       "..         ...        ...       ...        ...     ...        ...\n",
       "57   4/29/2020        NaN    France     165093   24087      48228\n",
       "168  4/29/2020        NaN        UK     165221   26097          0\n",
       "80   4/29/2020        NaN     Italy     203591   27682      71252\n",
       "153  4/29/2020        NaN     Spain     236899   24275     132929\n",
       "265  4/29/2020   New York        US     299691   23477          0\n",
       "\n",
       "[304 rows x 6 columns]"
      ]
     },
     "execution_count": 81,
     "metadata": {},
     "output_type": "execute_result"
    }
   ],
   "source": [
    "data.sort_values(by = ['Confirmed'], ascending=True)"
   ]
  },
  {
   "cell_type": "markdown",
   "id": "d7cd087f",
   "metadata": {},
   "source": [
    "# Q.7. Sort the entire data with respect to no. of recovered cases in descending order."
   ]
  },
  {
   "cell_type": "code",
   "execution_count": 82,
   "id": "eaab2315",
   "metadata": {},
   "outputs": [
    {
     "data": {
      "text/html": [
       "<div>\n",
       "<style scoped>\n",
       "    .dataframe tbody tr th:only-of-type {\n",
       "        vertical-align: middle;\n",
       "    }\n",
       "\n",
       "    .dataframe tbody tr th {\n",
       "        vertical-align: top;\n",
       "    }\n",
       "\n",
       "    .dataframe thead th {\n",
       "        text-align: right;\n",
       "    }\n",
       "</style>\n",
       "<table border=\"1\" class=\"dataframe\">\n",
       "  <thead>\n",
       "    <tr style=\"text-align: right;\">\n",
       "      <th></th>\n",
       "      <th>Date</th>\n",
       "      <th>State</th>\n",
       "      <th>Region</th>\n",
       "      <th>Confirmed</th>\n",
       "      <th>Deaths</th>\n",
       "      <th>Recovered</th>\n",
       "    </tr>\n",
       "  </thead>\n",
       "  <tbody>\n",
       "    <tr>\n",
       "      <th>153</th>\n",
       "      <td>4/29/2020</td>\n",
       "      <td>NaN</td>\n",
       "      <td>Spain</td>\n",
       "      <td>236899</td>\n",
       "      <td>24275</td>\n",
       "      <td>132929</td>\n",
       "    </tr>\n",
       "    <tr>\n",
       "      <th>61</th>\n",
       "      <td>4/29/2020</td>\n",
       "      <td>NaN</td>\n",
       "      <td>Germany</td>\n",
       "      <td>161539</td>\n",
       "      <td>6467</td>\n",
       "      <td>120400</td>\n",
       "    </tr>\n",
       "    <tr>\n",
       "      <th>76</th>\n",
       "      <td>4/29/2020</td>\n",
       "      <td>NaN</td>\n",
       "      <td>Iran</td>\n",
       "      <td>93657</td>\n",
       "      <td>5957</td>\n",
       "      <td>73791</td>\n",
       "    </tr>\n",
       "    <tr>\n",
       "      <th>80</th>\n",
       "      <td>4/29/2020</td>\n",
       "      <td>NaN</td>\n",
       "      <td>Italy</td>\n",
       "      <td>203591</td>\n",
       "      <td>27682</td>\n",
       "      <td>71252</td>\n",
       "    </tr>\n",
       "    <tr>\n",
       "      <th>229</th>\n",
       "      <td>4/29/2020</td>\n",
       "      <td>Hubei</td>\n",
       "      <td>Mainland China</td>\n",
       "      <td>68128</td>\n",
       "      <td>4512</td>\n",
       "      <td>63616</td>\n",
       "    </tr>\n",
       "    <tr>\n",
       "      <th>...</th>\n",
       "      <td>...</td>\n",
       "      <td>...</td>\n",
       "      <td>...</td>\n",
       "      <td>...</td>\n",
       "      <td>...</td>\n",
       "      <td>...</td>\n",
       "    </tr>\n",
       "    <tr>\n",
       "      <th>270</th>\n",
       "      <td>4/29/2020</td>\n",
       "      <td>Northern Mariana Islands</td>\n",
       "      <td>US</td>\n",
       "      <td>14</td>\n",
       "      <td>2</td>\n",
       "      <td>0</td>\n",
       "    </tr>\n",
       "    <tr>\n",
       "      <th>299</th>\n",
       "      <td>4/29/2020</td>\n",
       "      <td>South Dakota</td>\n",
       "      <td>US</td>\n",
       "      <td>2373</td>\n",
       "      <td>13</td>\n",
       "      <td>0</td>\n",
       "    </tr>\n",
       "    <tr>\n",
       "      <th>298</th>\n",
       "      <td>4/29/2020</td>\n",
       "      <td>South Carolina</td>\n",
       "      <td>US</td>\n",
       "      <td>5882</td>\n",
       "      <td>231</td>\n",
       "      <td>0</td>\n",
       "    </tr>\n",
       "    <tr>\n",
       "      <th>302</th>\n",
       "      <td>4/29/2020</td>\n",
       "      <td>Tennessee</td>\n",
       "      <td>US</td>\n",
       "      <td>10366</td>\n",
       "      <td>195</td>\n",
       "      <td>0</td>\n",
       "    </tr>\n",
       "    <tr>\n",
       "      <th>303</th>\n",
       "      <td>4/29/2020</td>\n",
       "      <td>Texas</td>\n",
       "      <td>US</td>\n",
       "      <td>27257</td>\n",
       "      <td>754</td>\n",
       "      <td>0</td>\n",
       "    </tr>\n",
       "  </tbody>\n",
       "</table>\n",
       "<p>304 rows × 6 columns</p>\n",
       "</div>"
      ],
      "text/plain": [
       "          Date                     State          Region  Confirmed  Deaths  \\\n",
       "153  4/29/2020                       NaN           Spain     236899   24275   \n",
       "61   4/29/2020                       NaN         Germany     161539    6467   \n",
       "76   4/29/2020                       NaN            Iran      93657    5957   \n",
       "80   4/29/2020                       NaN           Italy     203591   27682   \n",
       "229  4/29/2020                     Hubei  Mainland China      68128    4512   \n",
       "..         ...                       ...             ...        ...     ...   \n",
       "270  4/29/2020  Northern Mariana Islands              US         14       2   \n",
       "299  4/29/2020              South Dakota              US       2373      13   \n",
       "298  4/29/2020            South Carolina              US       5882     231   \n",
       "302  4/29/2020                 Tennessee              US      10366     195   \n",
       "303  4/29/2020                     Texas              US      27257     754   \n",
       "\n",
       "     Recovered  \n",
       "153     132929  \n",
       "61      120400  \n",
       "76       73791  \n",
       "80       71252  \n",
       "229      63616  \n",
       "..         ...  \n",
       "270          0  \n",
       "299          0  \n",
       "298          0  \n",
       "302          0  \n",
       "303          0  \n",
       "\n",
       "[304 rows x 6 columns]"
      ]
     },
     "execution_count": 82,
     "metadata": {},
     "output_type": "execute_result"
    }
   ],
   "source": [
    "data.sort_values(by = ['Recovered'], ascending=False)"
   ]
  }
 ],
 "metadata": {
  "kernelspec": {
   "display_name": "Python 3",
   "language": "python",
   "name": "python3"
  },
  "language_info": {
   "codemirror_mode": {
    "name": "ipython",
    "version": 3
   },
   "file_extension": ".py",
   "mimetype": "text/x-python",
   "name": "python",
   "nbconvert_exporter": "python",
   "pygments_lexer": "ipython3",
   "version": "3.11.5"
  }
 },
 "nbformat": 4,
 "nbformat_minor": 5
}
