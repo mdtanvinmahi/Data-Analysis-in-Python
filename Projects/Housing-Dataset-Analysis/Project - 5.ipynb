{
 "cells": [
  {
   "cell_type": "markdown",
   "id": "f2299069",
   "metadata": {},
   "source": [
    "# Project - 5: London Housing Dataset"
   ]
  },
  {
   "cell_type": "code",
   "execution_count": 1,
   "id": "580ffdfe",
   "metadata": {},
   "outputs": [],
   "source": [
    "import pandas as pd #type: ignore"
   ]
  },
  {
   "cell_type": "code",
   "execution_count": 2,
   "id": "27250d59",
   "metadata": {},
   "outputs": [],
   "source": [
    "data = pd.read_csv(\"housing.csv\")"
   ]
  },
  {
   "cell_type": "code",
   "execution_count": 3,
   "id": "3a44ff02",
   "metadata": {},
   "outputs": [
    {
     "data": {
      "text/html": [
       "<div>\n",
       "<style scoped>\n",
       "    .dataframe tbody tr th:only-of-type {\n",
       "        vertical-align: middle;\n",
       "    }\n",
       "\n",
       "    .dataframe tbody tr th {\n",
       "        vertical-align: top;\n",
       "    }\n",
       "\n",
       "    .dataframe thead th {\n",
       "        text-align: right;\n",
       "    }\n",
       "</style>\n",
       "<table border=\"1\" class=\"dataframe\">\n",
       "  <thead>\n",
       "    <tr style=\"text-align: right;\">\n",
       "      <th></th>\n",
       "      <th>date</th>\n",
       "      <th>area</th>\n",
       "      <th>average_price</th>\n",
       "      <th>code</th>\n",
       "      <th>houses_sold</th>\n",
       "      <th>no_of_crimes</th>\n",
       "    </tr>\n",
       "  </thead>\n",
       "  <tbody>\n",
       "    <tr>\n",
       "      <th>0</th>\n",
       "      <td>1/1/1995</td>\n",
       "      <td>city of london</td>\n",
       "      <td>91449</td>\n",
       "      <td>E09000001</td>\n",
       "      <td>17.0</td>\n",
       "      <td>NaN</td>\n",
       "    </tr>\n",
       "    <tr>\n",
       "      <th>1</th>\n",
       "      <td>2/1/1995</td>\n",
       "      <td>city of london</td>\n",
       "      <td>82203</td>\n",
       "      <td>E09000001</td>\n",
       "      <td>7.0</td>\n",
       "      <td>NaN</td>\n",
       "    </tr>\n",
       "    <tr>\n",
       "      <th>2</th>\n",
       "      <td>3/1/1995</td>\n",
       "      <td>city of london</td>\n",
       "      <td>79121</td>\n",
       "      <td>E09000001</td>\n",
       "      <td>14.0</td>\n",
       "      <td>NaN</td>\n",
       "    </tr>\n",
       "    <tr>\n",
       "      <th>3</th>\n",
       "      <td>4/1/1995</td>\n",
       "      <td>city of london</td>\n",
       "      <td>77101</td>\n",
       "      <td>E09000001</td>\n",
       "      <td>7.0</td>\n",
       "      <td>NaN</td>\n",
       "    </tr>\n",
       "    <tr>\n",
       "      <th>4</th>\n",
       "      <td>5/1/1995</td>\n",
       "      <td>city of london</td>\n",
       "      <td>84409</td>\n",
       "      <td>E09000001</td>\n",
       "      <td>10.0</td>\n",
       "      <td>NaN</td>\n",
       "    </tr>\n",
       "    <tr>\n",
       "      <th>...</th>\n",
       "      <td>...</td>\n",
       "      <td>...</td>\n",
       "      <td>...</td>\n",
       "      <td>...</td>\n",
       "      <td>...</td>\n",
       "      <td>...</td>\n",
       "    </tr>\n",
       "    <tr>\n",
       "      <th>13544</th>\n",
       "      <td>9/1/2019</td>\n",
       "      <td>england</td>\n",
       "      <td>249942</td>\n",
       "      <td>E92000001</td>\n",
       "      <td>64605.0</td>\n",
       "      <td>NaN</td>\n",
       "    </tr>\n",
       "    <tr>\n",
       "      <th>13545</th>\n",
       "      <td>10/1/2019</td>\n",
       "      <td>england</td>\n",
       "      <td>249376</td>\n",
       "      <td>E92000001</td>\n",
       "      <td>68677.0</td>\n",
       "      <td>NaN</td>\n",
       "    </tr>\n",
       "    <tr>\n",
       "      <th>13546</th>\n",
       "      <td>11/1/2019</td>\n",
       "      <td>england</td>\n",
       "      <td>248515</td>\n",
       "      <td>E92000001</td>\n",
       "      <td>67814.0</td>\n",
       "      <td>NaN</td>\n",
       "    </tr>\n",
       "    <tr>\n",
       "      <th>13547</th>\n",
       "      <td>12/1/2019</td>\n",
       "      <td>england</td>\n",
       "      <td>250410</td>\n",
       "      <td>E92000001</td>\n",
       "      <td>NaN</td>\n",
       "      <td>NaN</td>\n",
       "    </tr>\n",
       "    <tr>\n",
       "      <th>13548</th>\n",
       "      <td>1/1/2020</td>\n",
       "      <td>england</td>\n",
       "      <td>247355</td>\n",
       "      <td>E92000001</td>\n",
       "      <td>NaN</td>\n",
       "      <td>NaN</td>\n",
       "    </tr>\n",
       "  </tbody>\n",
       "</table>\n",
       "<p>13549 rows × 6 columns</p>\n",
       "</div>"
      ],
      "text/plain": [
       "            date            area  average_price       code  houses_sold  \\\n",
       "0       1/1/1995  city of london          91449  E09000001         17.0   \n",
       "1       2/1/1995  city of london          82203  E09000001          7.0   \n",
       "2       3/1/1995  city of london          79121  E09000001         14.0   \n",
       "3       4/1/1995  city of london          77101  E09000001          7.0   \n",
       "4       5/1/1995  city of london          84409  E09000001         10.0   \n",
       "...          ...             ...            ...        ...          ...   \n",
       "13544   9/1/2019         england         249942  E92000001      64605.0   \n",
       "13545  10/1/2019         england         249376  E92000001      68677.0   \n",
       "13546  11/1/2019         england         248515  E92000001      67814.0   \n",
       "13547  12/1/2019         england         250410  E92000001          NaN   \n",
       "13548   1/1/2020         england         247355  E92000001          NaN   \n",
       "\n",
       "       no_of_crimes  \n",
       "0               NaN  \n",
       "1               NaN  \n",
       "2               NaN  \n",
       "3               NaN  \n",
       "4               NaN  \n",
       "...             ...  \n",
       "13544           NaN  \n",
       "13545           NaN  \n",
       "13546           NaN  \n",
       "13547           NaN  \n",
       "13548           NaN  \n",
       "\n",
       "[13549 rows x 6 columns]"
      ]
     },
     "execution_count": 3,
     "metadata": {},
     "output_type": "execute_result"
    }
   ],
   "source": [
    "data"
   ]
  },
  {
   "cell_type": "code",
   "execution_count": 4,
   "id": "59a4a3f1",
   "metadata": {},
   "outputs": [
    {
     "data": {
      "text/plain": [
       "date             13549\n",
       "area             13549\n",
       "average_price    13549\n",
       "code             13549\n",
       "houses_sold      13455\n",
       "no_of_crimes      7439\n",
       "dtype: int64"
      ]
     },
     "execution_count": 4,
     "metadata": {},
     "output_type": "execute_result"
    }
   ],
   "source": [
    "data.count()"
   ]
  },
  {
   "cell_type": "markdown",
   "id": "281b079f",
   "metadata": {},
   "source": [
    "# (Seaborn Library)"
   ]
  },
  {
   "cell_type": "code",
   "execution_count": 5,
   "id": "f7611bee",
   "metadata": {},
   "outputs": [],
   "source": [
    "import seaborn as sns #type: ignore"
   ]
  },
  {
   "cell_type": "code",
   "execution_count": 6,
   "id": "e7520457",
   "metadata": {},
   "outputs": [],
   "source": [
    "import matplotlib.pyplot as plt #type: ignore"
   ]
  },
  {
   "cell_type": "code",
   "execution_count": 7,
   "id": "10945046",
   "metadata": {},
   "outputs": [
    {
     "data": {
      "image/png": "[encoded data removed]",
      "text/plain": [
       "<Figure size 640x480 with 2 Axes>"
      ]
     },
     "metadata": {},
     "output_type": "display_data"
    }
   ],
   "source": [
    "sns.heatmap(data.isnull())\n",
    "plt.show()"
   ]
  },
  {
   "cell_type": "code",
   "execution_count": 8,
   "id": "ee4318b5",
   "metadata": {},
   "outputs": [
    {
     "data": {
      "text/plain": [
       "date                0\n",
       "area                0\n",
       "average_price       0\n",
       "code                0\n",
       "houses_sold        94\n",
       "no_of_crimes     6110\n",
       "dtype: int64"
      ]
     },
     "execution_count": 8,
     "metadata": {},
     "output_type": "execute_result"
    }
   ],
   "source": [
    "data.isnull().sum()"
   ]
  },
  {
   "cell_type": "markdown",
   "id": "5a4eab15",
   "metadata": {},
   "source": [
    "# Q.1. Conver the 'date' colum to 'date-time' format."
   ]
  },
  {
   "cell_type": "code",
   "execution_count": 11,
   "id": "e3b6060f",
   "metadata": {},
   "outputs": [],
   "source": [
    "data['date'] = pd.to_datetime(data['date'])"
   ]
  },
  {
   "cell_type": "code",
   "execution_count": 12,
   "id": "80115a69",
   "metadata": {},
   "outputs": [
    {
     "data": {
      "text/html": [
       "<div>\n",
       "<style scoped>\n",
       "    .dataframe tbody tr th:only-of-type {\n",
       "        vertical-align: middle;\n",
       "    }\n",
       "\n",
       "    .dataframe tbody tr th {\n",
       "        vertical-align: top;\n",
       "    }\n",
       "\n",
       "    .dataframe thead th {\n",
       "        text-align: right;\n",
       "    }\n",
       "</style>\n",
       "<table border=\"1\" class=\"dataframe\">\n",
       "  <thead>\n",
       "    <tr style=\"text-align: right;\">\n",
       "      <th></th>\n",
       "      <th>date</th>\n",
       "      <th>area</th>\n",
       "      <th>average_price</th>\n",
       "      <th>code</th>\n",
       "      <th>houses_sold</th>\n",
       "      <th>no_of_crimes</th>\n",
       "    </tr>\n",
       "  </thead>\n",
       "  <tbody>\n",
       "    <tr>\n",
       "      <th>0</th>\n",
       "      <td>1995-01-01</td>\n",
       "      <td>city of london</td>\n",
       "      <td>91449</td>\n",
       "      <td>E09000001</td>\n",
       "      <td>17.0</td>\n",
       "      <td>NaN</td>\n",
       "    </tr>\n",
       "    <tr>\n",
       "      <th>1</th>\n",
       "      <td>1995-02-01</td>\n",
       "      <td>city of london</td>\n",
       "      <td>82203</td>\n",
       "      <td>E09000001</td>\n",
       "      <td>7.0</td>\n",
       "      <td>NaN</td>\n",
       "    </tr>\n",
       "  </tbody>\n",
       "</table>\n",
       "</div>"
      ],
      "text/plain": [
       "        date            area  average_price       code  houses_sold  \\\n",
       "0 1995-01-01  city of london          91449  E09000001         17.0   \n",
       "1 1995-02-01  city of london          82203  E09000001          7.0   \n",
       "\n",
       "   no_of_crimes  \n",
       "0           NaN  \n",
       "1           NaN  "
      ]
     },
     "execution_count": 12,
     "metadata": {},
     "output_type": "execute_result"
    }
   ],
   "source": [
    "data.head(2)"
   ]
  },
  {
   "cell_type": "code",
   "execution_count": 11,
   "id": "8585371e",
   "metadata": {},
   "outputs": [
    {
     "data": {
      "text/plain": [
       "date             datetime64[ns]\n",
       "area                     object\n",
       "average_price             int64\n",
       "code                     object\n",
       "houses_sold             float64\n",
       "no_of_crimes            float64\n",
       "dtype: object"
      ]
     },
     "execution_count": 11,
     "metadata": {},
     "output_type": "execute_result"
    }
   ],
   "source": [
    "data.dtypes"
   ]
  },
  {
   "cell_type": "markdown",
   "id": "23142792",
   "metadata": {},
   "source": [
    "# Q.2. Add a new column 'year' in the dataframe, which contains years only."
   ]
  },
  {
   "cell_type": "code",
   "execution_count": 12,
   "id": "2271b763",
   "metadata": {},
   "outputs": [],
   "source": [
    "data['year'] = data.date.dt.year"
   ]
  },
  {
   "cell_type": "code",
   "execution_count": 12,
   "id": "4802b9ca",
   "metadata": {},
   "outputs": [
    {
     "data": {
      "text/html": [
       "<div>\n",
       "<style scoped>\n",
       "    .dataframe tbody tr th:only-of-type {\n",
       "        vertical-align: middle;\n",
       "    }\n",
       "\n",
       "    .dataframe tbody tr th {\n",
       "        vertical-align: top;\n",
       "    }\n",
       "\n",
       "    .dataframe thead th {\n",
       "        text-align: right;\n",
       "    }\n",
       "</style>\n",
       "<table border=\"1\" class=\"dataframe\">\n",
       "  <thead>\n",
       "    <tr style=\"text-align: right;\">\n",
       "      <th></th>\n",
       "      <th>date</th>\n",
       "      <th>area</th>\n",
       "      <th>average_price</th>\n",
       "      <th>code</th>\n",
       "      <th>houses_sold</th>\n",
       "      <th>no_of_crimes</th>\n",
       "      <th>year</th>\n",
       "    </tr>\n",
       "  </thead>\n",
       "  <tbody>\n",
       "    <tr>\n",
       "      <th>0</th>\n",
       "      <td>1995-01-01</td>\n",
       "      <td>city of london</td>\n",
       "      <td>91449</td>\n",
       "      <td>E09000001</td>\n",
       "      <td>17.0</td>\n",
       "      <td>NaN</td>\n",
       "      <td>1995</td>\n",
       "    </tr>\n",
       "    <tr>\n",
       "      <th>1</th>\n",
       "      <td>1995-02-01</td>\n",
       "      <td>city of london</td>\n",
       "      <td>82203</td>\n",
       "      <td>E09000001</td>\n",
       "      <td>7.0</td>\n",
       "      <td>NaN</td>\n",
       "      <td>1995</td>\n",
       "    </tr>\n",
       "  </tbody>\n",
       "</table>\n",
       "</div>"
      ],
      "text/plain": [
       "        date            area  average_price       code  houses_sold  \\\n",
       "0 1995-01-01  city of london          91449  E09000001         17.0   \n",
       "1 1995-02-01  city of london          82203  E09000001          7.0   \n",
       "\n",
       "   no_of_crimes  year  \n",
       "0           NaN  1995  \n",
       "1           NaN  1995  "
      ]
     },
     "execution_count": 12,
     "metadata": {},
     "output_type": "execute_result"
    }
   ],
   "source": [
    "data.head(2)"
   ]
  },
  {
   "cell_type": "markdown",
   "id": "d17e36ac",
   "metadata": {},
   "source": [
    "# Q.3. Add a new column 'month' as 2nd column in the dataframe, which contains month only."
   ]
  },
  {
   "cell_type": "code",
   "execution_count": 13,
   "id": "3c05cc17",
   "metadata": {},
   "outputs": [],
   "source": [
    "data.insert(1,'month',data.date.dt.month)"
   ]
  },
  {
   "cell_type": "code",
   "execution_count": 14,
   "id": "38b20a52",
   "metadata": {},
   "outputs": [
    {
     "data": {
      "text/html": [
       "<div>\n",
       "<style scoped>\n",
       "    .dataframe tbody tr th:only-of-type {\n",
       "        vertical-align: middle;\n",
       "    }\n",
       "\n",
       "    .dataframe tbody tr th {\n",
       "        vertical-align: top;\n",
       "    }\n",
       "\n",
       "    .dataframe thead th {\n",
       "        text-align: right;\n",
       "    }\n",
       "</style>\n",
       "<table border=\"1\" class=\"dataframe\">\n",
       "  <thead>\n",
       "    <tr style=\"text-align: right;\">\n",
       "      <th></th>\n",
       "      <th>date</th>\n",
       "      <th>month</th>\n",
       "      <th>area</th>\n",
       "      <th>average_price</th>\n",
       "      <th>code</th>\n",
       "      <th>houses_sold</th>\n",
       "      <th>no_of_crimes</th>\n",
       "      <th>year</th>\n",
       "    </tr>\n",
       "  </thead>\n",
       "  <tbody>\n",
       "    <tr>\n",
       "      <th>0</th>\n",
       "      <td>1995-01-01</td>\n",
       "      <td>1</td>\n",
       "      <td>city of london</td>\n",
       "      <td>91449</td>\n",
       "      <td>E09000001</td>\n",
       "      <td>17.0</td>\n",
       "      <td>NaN</td>\n",
       "      <td>1995</td>\n",
       "    </tr>\n",
       "  </tbody>\n",
       "</table>\n",
       "</div>"
      ],
      "text/plain": [
       "        date  month            area  average_price       code  houses_sold  \\\n",
       "0 1995-01-01      1  city of london          91449  E09000001         17.0   \n",
       "\n",
       "   no_of_crimes  year  \n",
       "0           NaN  1995  "
      ]
     },
     "execution_count": 14,
     "metadata": {},
     "output_type": "execute_result"
    }
   ],
   "source": [
    "data.head(1)"
   ]
  },
  {
   "cell_type": "markdown",
   "id": "54e3d9af",
   "metadata": {},
   "source": [
    "# Q.4. Remove the columns 'year' and 'month' from the dataframe."
   ]
  },
  {
   "cell_type": "code",
   "execution_count": 15,
   "id": "09a69a38",
   "metadata": {},
   "outputs": [],
   "source": [
    "data.drop(['month','year'],axis=1,inplace=True)"
   ]
  },
  {
   "cell_type": "code",
   "execution_count": 23,
   "id": "8c9343d6",
   "metadata": {},
   "outputs": [
    {
     "data": {
      "text/html": [
       "<div>\n",
       "<style scoped>\n",
       "    .dataframe tbody tr th:only-of-type {\n",
       "        vertical-align: middle;\n",
       "    }\n",
       "\n",
       "    .dataframe tbody tr th {\n",
       "        vertical-align: top;\n",
       "    }\n",
       "\n",
       "    .dataframe thead th {\n",
       "        text-align: right;\n",
       "    }\n",
       "</style>\n",
       "<table border=\"1\" class=\"dataframe\">\n",
       "  <thead>\n",
       "    <tr style=\"text-align: right;\">\n",
       "      <th></th>\n",
       "      <th>date</th>\n",
       "      <th>area</th>\n",
       "      <th>average_price</th>\n",
       "      <th>code</th>\n",
       "      <th>houses_sold</th>\n",
       "      <th>no_of_crimes</th>\n",
       "    </tr>\n",
       "  </thead>\n",
       "  <tbody>\n",
       "    <tr>\n",
       "      <th>0</th>\n",
       "      <td>1995-01-01</td>\n",
       "      <td>city of london</td>\n",
       "      <td>91449</td>\n",
       "      <td>E09000001</td>\n",
       "      <td>17.0</td>\n",
       "      <td>NaN</td>\n",
       "    </tr>\n",
       "    <tr>\n",
       "      <th>1</th>\n",
       "      <td>1995-02-01</td>\n",
       "      <td>city of london</td>\n",
       "      <td>82203</td>\n",
       "      <td>E09000001</td>\n",
       "      <td>7.0</td>\n",
       "      <td>NaN</td>\n",
       "    </tr>\n",
       "  </tbody>\n",
       "</table>\n",
       "</div>"
      ],
      "text/plain": [
       "        date            area  average_price       code  houses_sold  \\\n",
       "0 1995-01-01  city of london          91449  E09000001         17.0   \n",
       "1 1995-02-01  city of london          82203  E09000001          7.0   \n",
       "\n",
       "   no_of_crimes  \n",
       "0           NaN  \n",
       "1           NaN  "
      ]
     },
     "execution_count": 23,
     "metadata": {},
     "output_type": "execute_result"
    }
   ],
   "source": [
    "data.head(2)"
   ]
  },
  {
   "cell_type": "markdown",
   "id": "a28ed3f5",
   "metadata": {},
   "source": [
    "# Q.5. Show all the records where 'No. of Crimes' is 0, and how many such records are there?"
   ]
  },
  {
   "cell_type": "code",
   "execution_count": 16,
   "id": "74d879c6",
   "metadata": {},
   "outputs": [
    {
     "data": {
      "text/html": [
       "<div>\n",
       "<style scoped>\n",
       "    .dataframe tbody tr th:only-of-type {\n",
       "        vertical-align: middle;\n",
       "    }\n",
       "\n",
       "    .dataframe tbody tr th {\n",
       "        vertical-align: top;\n",
       "    }\n",
       "\n",
       "    .dataframe thead th {\n",
       "        text-align: right;\n",
       "    }\n",
       "</style>\n",
       "<table border=\"1\" class=\"dataframe\">\n",
       "  <thead>\n",
       "    <tr style=\"text-align: right;\">\n",
       "      <th></th>\n",
       "      <th>date</th>\n",
       "      <th>area</th>\n",
       "      <th>average_price</th>\n",
       "      <th>code</th>\n",
       "      <th>houses_sold</th>\n",
       "      <th>no_of_crimes</th>\n",
       "    </tr>\n",
       "  </thead>\n",
       "  <tbody>\n",
       "    <tr>\n",
       "      <th>72</th>\n",
       "      <td>2001-01-01</td>\n",
       "      <td>city of london</td>\n",
       "      <td>284262</td>\n",
       "      <td>E09000001</td>\n",
       "      <td>24.0</td>\n",
       "      <td>0.0</td>\n",
       "    </tr>\n",
       "    <tr>\n",
       "      <th>73</th>\n",
       "      <td>2001-02-01</td>\n",
       "      <td>city of london</td>\n",
       "      <td>198137</td>\n",
       "      <td>E09000001</td>\n",
       "      <td>37.0</td>\n",
       "      <td>0.0</td>\n",
       "    </tr>\n",
       "    <tr>\n",
       "      <th>74</th>\n",
       "      <td>2001-03-01</td>\n",
       "      <td>city of london</td>\n",
       "      <td>189033</td>\n",
       "      <td>E09000001</td>\n",
       "      <td>44.0</td>\n",
       "      <td>0.0</td>\n",
       "    </tr>\n",
       "    <tr>\n",
       "      <th>75</th>\n",
       "      <td>2001-04-01</td>\n",
       "      <td>city of london</td>\n",
       "      <td>205494</td>\n",
       "      <td>E09000001</td>\n",
       "      <td>38.0</td>\n",
       "      <td>0.0</td>\n",
       "    </tr>\n",
       "    <tr>\n",
       "      <th>76</th>\n",
       "      <td>2001-05-01</td>\n",
       "      <td>city of london</td>\n",
       "      <td>223459</td>\n",
       "      <td>E09000001</td>\n",
       "      <td>30.0</td>\n",
       "      <td>0.0</td>\n",
       "    </tr>\n",
       "    <tr>\n",
       "      <th>...</th>\n",
       "      <td>...</td>\n",
       "      <td>...</td>\n",
       "      <td>...</td>\n",
       "      <td>...</td>\n",
       "      <td>...</td>\n",
       "      <td>...</td>\n",
       "    </tr>\n",
       "    <tr>\n",
       "      <th>178</th>\n",
       "      <td>2009-11-01</td>\n",
       "      <td>city of london</td>\n",
       "      <td>397909</td>\n",
       "      <td>E09000001</td>\n",
       "      <td>11.0</td>\n",
       "      <td>0.0</td>\n",
       "    </tr>\n",
       "    <tr>\n",
       "      <th>179</th>\n",
       "      <td>2009-12-01</td>\n",
       "      <td>city of london</td>\n",
       "      <td>411955</td>\n",
       "      <td>E09000001</td>\n",
       "      <td>16.0</td>\n",
       "      <td>0.0</td>\n",
       "    </tr>\n",
       "    <tr>\n",
       "      <th>180</th>\n",
       "      <td>2010-01-01</td>\n",
       "      <td>city of london</td>\n",
       "      <td>464436</td>\n",
       "      <td>E09000001</td>\n",
       "      <td>20.0</td>\n",
       "      <td>0.0</td>\n",
       "    </tr>\n",
       "    <tr>\n",
       "      <th>181</th>\n",
       "      <td>2010-02-01</td>\n",
       "      <td>city of london</td>\n",
       "      <td>490525</td>\n",
       "      <td>E09000001</td>\n",
       "      <td>9.0</td>\n",
       "      <td>0.0</td>\n",
       "    </tr>\n",
       "    <tr>\n",
       "      <th>182</th>\n",
       "      <td>2010-03-01</td>\n",
       "      <td>city of london</td>\n",
       "      <td>498241</td>\n",
       "      <td>E09000001</td>\n",
       "      <td>15.0</td>\n",
       "      <td>0.0</td>\n",
       "    </tr>\n",
       "  </tbody>\n",
       "</table>\n",
       "<p>104 rows × 6 columns</p>\n",
       "</div>"
      ],
      "text/plain": [
       "          date            area  average_price       code  houses_sold  \\\n",
       "72  2001-01-01  city of london         284262  E09000001         24.0   \n",
       "73  2001-02-01  city of london         198137  E09000001         37.0   \n",
       "74  2001-03-01  city of london         189033  E09000001         44.0   \n",
       "75  2001-04-01  city of london         205494  E09000001         38.0   \n",
       "76  2001-05-01  city of london         223459  E09000001         30.0   \n",
       "..         ...             ...            ...        ...          ...   \n",
       "178 2009-11-01  city of london         397909  E09000001         11.0   \n",
       "179 2009-12-01  city of london         411955  E09000001         16.0   \n",
       "180 2010-01-01  city of london         464436  E09000001         20.0   \n",
       "181 2010-02-01  city of london         490525  E09000001          9.0   \n",
       "182 2010-03-01  city of london         498241  E09000001         15.0   \n",
       "\n",
       "     no_of_crimes  \n",
       "72            0.0  \n",
       "73            0.0  \n",
       "74            0.0  \n",
       "75            0.0  \n",
       "76            0.0  \n",
       "..            ...  \n",
       "178           0.0  \n",
       "179           0.0  \n",
       "180           0.0  \n",
       "181           0.0  \n",
       "182           0.0  \n",
       "\n",
       "[104 rows x 6 columns]"
      ]
     },
     "execution_count": 16,
     "metadata": {},
     "output_type": "execute_result"
    }
   ],
   "source": [
    "data[data['no_of_crimes'] == 0]"
   ]
  },
  {
   "cell_type": "code",
   "execution_count": 17,
   "id": "8b69a825",
   "metadata": {},
   "outputs": [
    {
     "data": {
      "text/plain": [
       "104"
      ]
     },
     "execution_count": 17,
     "metadata": {},
     "output_type": "execute_result"
    }
   ],
   "source": [
    "len(data[data['no_of_crimes'] == 0])"
   ]
  },
  {
   "cell_type": "code",
   "execution_count": 31,
   "id": "b5a1f820",
   "metadata": {},
   "outputs": [],
   "source": [
    "# Answer: 104 records"
   ]
  },
  {
   "cell_type": "markdown",
   "id": "c2113e07",
   "metadata": {},
   "source": [
    "# Q.6. What is the maximum and minimum 'average_price' per year in England?"
   ]
  },
  {
   "cell_type": "code",
   "execution_count": 50,
   "id": "6f629a67",
   "metadata": {},
   "outputs": [],
   "source": [
    "data.insert(1,'year',data.date.dt.year)"
   ]
  },
  {
   "cell_type": "code",
   "execution_count": 51,
   "id": "99174fcb",
   "metadata": {},
   "outputs": [
    {
     "data": {
      "text/html": [
       "<div>\n",
       "<style scoped>\n",
       "    .dataframe tbody tr th:only-of-type {\n",
       "        vertical-align: middle;\n",
       "    }\n",
       "\n",
       "    .dataframe tbody tr th {\n",
       "        vertical-align: top;\n",
       "    }\n",
       "\n",
       "    .dataframe thead th {\n",
       "        text-align: right;\n",
       "    }\n",
       "</style>\n",
       "<table border=\"1\" class=\"dataframe\">\n",
       "  <thead>\n",
       "    <tr style=\"text-align: right;\">\n",
       "      <th></th>\n",
       "      <th>date</th>\n",
       "      <th>year</th>\n",
       "      <th>area</th>\n",
       "      <th>average_price</th>\n",
       "      <th>code</th>\n",
       "      <th>houses_sold</th>\n",
       "      <th>no_of_crimes</th>\n",
       "    </tr>\n",
       "  </thead>\n",
       "  <tbody>\n",
       "    <tr>\n",
       "      <th>0</th>\n",
       "      <td>1995-01-01</td>\n",
       "      <td>1995</td>\n",
       "      <td>city of london</td>\n",
       "      <td>91449</td>\n",
       "      <td>E09000001</td>\n",
       "      <td>17.0</td>\n",
       "      <td>NaN</td>\n",
       "    </tr>\n",
       "    <tr>\n",
       "      <th>1</th>\n",
       "      <td>1995-02-01</td>\n",
       "      <td>1995</td>\n",
       "      <td>city of london</td>\n",
       "      <td>82203</td>\n",
       "      <td>E09000001</td>\n",
       "      <td>7.0</td>\n",
       "      <td>NaN</td>\n",
       "    </tr>\n",
       "  </tbody>\n",
       "</table>\n",
       "</div>"
      ],
      "text/plain": [
       "        date  year            area  average_price       code  houses_sold  \\\n",
       "0 1995-01-01  1995  city of london          91449  E09000001         17.0   \n",
       "1 1995-02-01  1995  city of london          82203  E09000001          7.0   \n",
       "\n",
       "   no_of_crimes  \n",
       "0           NaN  \n",
       "1           NaN  "
      ]
     },
     "execution_count": 51,
     "metadata": {},
     "output_type": "execute_result"
    }
   ],
   "source": [
    "data.head(2)"
   ]
  },
  {
   "cell_type": "code",
   "execution_count": 56,
   "id": "099bc93e",
   "metadata": {},
   "outputs": [],
   "source": [
    "data = data[data['area'] == 'england']"
   ]
  },
  {
   "cell_type": "code",
   "execution_count": 65,
   "id": "73f91c40",
   "metadata": {},
   "outputs": [
    {
     "data": {
      "text/plain": [
       "year\n",
       "1995     53901\n",
       "1996     55755\n",
       "1997     61564\n",
       "1998     65743\n",
       "1999     75071\n",
       "2000     84191\n",
       "2001     95992\n",
       "2002    119982\n",
       "2003    138985\n",
       "2004    160330\n",
       "2005    167244\n",
       "2006    182031\n",
       "2007    194764\n",
       "2008    191750\n",
       "2009    174136\n",
       "2010    180807\n",
       "2011    177335\n",
       "2012    180129\n",
       "2013    188544\n",
       "2014    203639\n",
       "2015    219582\n",
       "2016    231922\n",
       "2017    242628\n",
       "2018    248620\n",
       "2019    250410\n",
       "2020    247355\n",
       "Name: average_price, dtype: int64"
      ]
     },
     "execution_count": 65,
     "metadata": {},
     "output_type": "execute_result"
    }
   ],
   "source": [
    "data.groupby('year').average_price.max()"
   ]
  },
  {
   "cell_type": "code",
   "execution_count": 66,
   "id": "7df823ef",
   "metadata": {},
   "outputs": [
    {
     "data": {
      "text/plain": [
       "year\n",
       "1995     52788\n",
       "1996     52333\n",
       "1997     55789\n",
       "1998     61659\n",
       "1999     65522\n",
       "2000     75219\n",
       "2001     84245\n",
       "2002     96215\n",
       "2003    121610\n",
       "2004    139719\n",
       "2005    158572\n",
       "2006    166544\n",
       "2007    181824\n",
       "2008    165795\n",
       "2009    159340\n",
       "2010    174458\n",
       "2011    173046\n",
       "2012    174161\n",
       "2013    176816\n",
       "2014    188265\n",
       "2015    202856\n",
       "2016    220361\n",
       "2017    231593\n",
       "2018    240428\n",
       "2019    243281\n",
       "2020    247355\n",
       "Name: average_price, dtype: int64"
      ]
     },
     "execution_count": 66,
     "metadata": {},
     "output_type": "execute_result"
    }
   ],
   "source": [
    "data.groupby('year').average_price.min()"
   ]
  },
  {
   "cell_type": "markdown",
   "id": "c833003f",
   "metadata": {},
   "source": [
    "# Q.7. What are the maximum and minimum no. of crimes recorded per year?"
   ]
  },
  {
   "cell_type": "code",
   "execution_count": 9,
   "id": "763d8db7",
   "metadata": {},
   "outputs": [
    {
     "data": {
      "text/html": [
       "<div>\n",
       "<style scoped>\n",
       "    .dataframe tbody tr th:only-of-type {\n",
       "        vertical-align: middle;\n",
       "    }\n",
       "\n",
       "    .dataframe tbody tr th {\n",
       "        vertical-align: top;\n",
       "    }\n",
       "\n",
       "    .dataframe thead th {\n",
       "        text-align: right;\n",
       "    }\n",
       "</style>\n",
       "<table border=\"1\" class=\"dataframe\">\n",
       "  <thead>\n",
       "    <tr style=\"text-align: right;\">\n",
       "      <th></th>\n",
       "      <th>date</th>\n",
       "      <th>area</th>\n",
       "      <th>average_price</th>\n",
       "      <th>code</th>\n",
       "      <th>houses_sold</th>\n",
       "      <th>no_of_crimes</th>\n",
       "    </tr>\n",
       "  </thead>\n",
       "  <tbody>\n",
       "    <tr>\n",
       "      <th>0</th>\n",
       "      <td>1/1/1995</td>\n",
       "      <td>city of london</td>\n",
       "      <td>91449</td>\n",
       "      <td>E09000001</td>\n",
       "      <td>17.0</td>\n",
       "      <td>NaN</td>\n",
       "    </tr>\n",
       "  </tbody>\n",
       "</table>\n",
       "</div>"
      ],
      "text/plain": [
       "       date            area  average_price       code  houses_sold  \\\n",
       "0  1/1/1995  city of london          91449  E09000001         17.0   \n",
       "\n",
       "   no_of_crimes  \n",
       "0           NaN  "
      ]
     },
     "execution_count": 9,
     "metadata": {},
     "output_type": "execute_result"
    }
   ],
   "source": [
    "data.head(1)"
   ]
  },
  {
   "cell_type": "code",
   "execution_count": 13,
   "id": "c5011a58",
   "metadata": {},
   "outputs": [],
   "source": [
    "data.insert(1,'year',data.date.dt.year)"
   ]
  },
  {
   "cell_type": "code",
   "execution_count": 14,
   "id": "0b6e6468",
   "metadata": {},
   "outputs": [
    {
     "data": {
      "text/html": [
       "<div>\n",
       "<style scoped>\n",
       "    .dataframe tbody tr th:only-of-type {\n",
       "        vertical-align: middle;\n",
       "    }\n",
       "\n",
       "    .dataframe tbody tr th {\n",
       "        vertical-align: top;\n",
       "    }\n",
       "\n",
       "    .dataframe thead th {\n",
       "        text-align: right;\n",
       "    }\n",
       "</style>\n",
       "<table border=\"1\" class=\"dataframe\">\n",
       "  <thead>\n",
       "    <tr style=\"text-align: right;\">\n",
       "      <th></th>\n",
       "      <th>date</th>\n",
       "      <th>year</th>\n",
       "      <th>area</th>\n",
       "      <th>average_price</th>\n",
       "      <th>code</th>\n",
       "      <th>houses_sold</th>\n",
       "      <th>no_of_crimes</th>\n",
       "    </tr>\n",
       "  </thead>\n",
       "  <tbody>\n",
       "    <tr>\n",
       "      <th>0</th>\n",
       "      <td>1995-01-01</td>\n",
       "      <td>1995</td>\n",
       "      <td>city of london</td>\n",
       "      <td>91449</td>\n",
       "      <td>E09000001</td>\n",
       "      <td>17.0</td>\n",
       "      <td>NaN</td>\n",
       "    </tr>\n",
       "  </tbody>\n",
       "</table>\n",
       "</div>"
      ],
      "text/plain": [
       "        date  year            area  average_price       code  houses_sold  \\\n",
       "0 1995-01-01  1995  city of london          91449  E09000001         17.0   \n",
       "\n",
       "   no_of_crimes  \n",
       "0           NaN  "
      ]
     },
     "execution_count": 14,
     "metadata": {},
     "output_type": "execute_result"
    }
   ],
   "source": [
    "data.head(1)"
   ]
  },
  {
   "cell_type": "code",
   "execution_count": 20,
   "id": "4c07c681",
   "metadata": {},
   "outputs": [
    {
     "data": {
      "text/plain": [
       "year\n",
       "1995    0.0\n",
       "1996    0.0\n",
       "1997    0.0\n",
       "1998    0.0\n",
       "1999    0.0\n",
       "Name: no_of_crimes, dtype: float64"
      ]
     },
     "execution_count": 20,
     "metadata": {},
     "output_type": "execute_result"
    }
   ],
   "source": [
    "data.groupby('year').no_of_crimes.sum().sort_values(ascending=True).head()"
   ]
  },
  {
   "cell_type": "code",
   "execution_count": 19,
   "id": "31870d9e",
   "metadata": {},
   "outputs": [
    {
     "data": {
      "text/plain": [
       "year\n",
       "2002    978918.0\n",
       "2003    961068.0\n",
       "2001    952463.0\n",
       "2004    943155.0\n",
       "2019    916420.0\n",
       "Name: no_of_crimes, dtype: float64"
      ]
     },
     "execution_count": 19,
     "metadata": {},
     "output_type": "execute_result"
    }
   ],
   "source": [
    "data.groupby('year').no_of_crimes.sum().sort_values(ascending=False).head()"
   ]
  },
  {
   "cell_type": "markdown",
   "id": "3788d705",
   "metadata": {},
   "source": [
    "# Q.8. What are the maximum and minimum no. of crimes recorded per area?"
   ]
  },
  {
   "cell_type": "code",
   "execution_count": 24,
   "id": "159b05b7",
   "metadata": {},
   "outputs": [
    {
     "data": {
      "text/plain": [
       "area\n",
       "westminster    7461.0\n",
       "lambeth        4701.0\n",
       "camden         4558.0\n",
       "southwark      3821.0\n",
       "newham         3668.0\n",
       "Name: no_of_crimes, dtype: float64"
      ]
     },
     "execution_count": 24,
     "metadata": {},
     "output_type": "execute_result"
    }
   ],
   "source": [
    "data.groupby('area').no_of_crimes.max().sort_values(ascending=False).head()"
   ]
  },
  {
   "cell_type": "code",
   "execution_count": 27,
   "id": "dcbdde98",
   "metadata": {},
   "outputs": [
    {
     "data": {
      "text/plain": [
       "area\n",
       "city of london            0.0\n",
       "kingston upon thames    692.0\n",
       "richmond upon thames    700.0\n",
       "sutton                  787.0\n",
       "merton                  819.0\n",
       "Name: no_of_crimes, dtype: float64"
      ]
     },
     "execution_count": 27,
     "metadata": {},
     "output_type": "execute_result"
    }
   ],
   "source": [
    "data.groupby('area').no_of_crimes.min().sort_values(ascending=True).head()"
   ]
  },
  {
   "cell_type": "markdown",
   "id": "6b73ba08",
   "metadata": {},
   "source": [
    "# Q.9. Show the total count of records of each area, where average price if less than 100000."
   ]
  },
  {
   "cell_type": "code",
   "execution_count": 31,
   "id": "1c6a6543",
   "metadata": {},
   "outputs": [
    {
     "data": {
      "text/plain": [
       "area\n",
       "north east              112\n",
       "north west              111\n",
       "yorks and the humber    110\n",
       "east midlands            96\n",
       "west midlands            94\n",
       "england                  87\n",
       "barking and dagenham     85\n",
       "south west               78\n",
       "east of england          76\n",
       "newham                   72\n",
       "bexley                   64\n",
       "waltham forest           64\n",
       "lewisham                 62\n",
       "havering                 60\n",
       "south east               59\n",
       "greenwich                59\n",
       "croydon                  57\n",
       "sutton                   54\n",
       "enfield                  54\n",
       "hackney                  53\n",
       "redbridge                52\n",
       "southwark                48\n",
       "tower hamlets            47\n",
       "outer london             46\n",
       "hillingdon               44\n",
       "hounslow                 41\n",
       "lambeth                  41\n",
       "brent                    40\n",
       "london                   39\n",
       "merton                   35\n",
       "haringey                 33\n",
       "bromley                  33\n",
       "ealing                   31\n",
       "inner london             31\n",
       "harrow                   30\n",
       "kingston upon thames     30\n",
       "wandsworth               26\n",
       "barnet                   25\n",
       "islington                19\n",
       "city of london           11\n",
       "Name: count, dtype: int64"
      ]
     },
     "execution_count": 31,
     "metadata": {},
     "output_type": "execute_result"
    }
   ],
   "source": [
    "data[data['average_price'] < 100000].area.value_counts()"
   ]
  },
  {
   "cell_type": "code",
   "execution_count": null,
   "id": "95c9c1c2",
   "metadata": {},
   "outputs": [],
   "source": []
  }
 ],
 "metadata": {
  "kernelspec": {
   "display_name": "Python 3",
   "language": "python",
   "name": "python3"
  },
  "language_info": {
   "codemirror_mode": {
    "name": "ipython",
    "version": 3
   },
   "file_extension": ".py",
   "mimetype": "text/x-python",
   "name": "python",
   "nbconvert_exporter": "python",
   "pygments_lexer": "ipython3",
   "version": "3.11.5"
  }
 },
 "nbformat": 4,
 "nbformat_minor": 5
}
